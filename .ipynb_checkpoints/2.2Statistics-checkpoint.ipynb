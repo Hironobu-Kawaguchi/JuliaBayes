{
 "cells": [
  {
   "cell_type": "markdown",
   "id": "4bf2c994-9c27-4d63-8754-5f684e3d04fb",
   "metadata": {},
   "source": [
    "# 2.2 統計量の計算"
   ]
  },
  {
   "cell_type": "code",
   "execution_count": 1,
   "id": "fbdd628a-3f3a-4a46-b533-a8275035cdc3",
   "metadata": {},
   "outputs": [],
   "source": [
    "using Statistics"
   ]
  },
  {
   "cell_type": "code",
   "execution_count": 2,
   "id": "85730c41-fe68-4e4e-bbf0-042d5c3b244a",
   "metadata": {},
   "outputs": [
    {
     "data": {
      "text/plain": [
       "5-element Vector{Float64}:\n",
       " 0.2772639683387542\n",
       " 0.8463099561927998\n",
       " 0.3698600299483479\n",
       " 0.7014441731869498\n",
       " 0.5005474698365897"
      ]
     },
     "execution_count": 2,
     "metadata": {},
     "output_type": "execute_result"
    }
   ],
   "source": [
    "X = rand(5)"
   ]
  },
  {
   "cell_type": "code",
   "execution_count": 3,
   "id": "7db3f0d0-a775-4a2e-8485-cb1172095568",
   "metadata": {},
   "outputs": [
    {
     "data": {
      "text/plain": [
       "2×5 Matrix{Float64}:\n",
       " 0.064094  0.936921  0.158492   0.970537  0.292125\n",
       " 0.996678  0.981759  0.0126825  0.256881  0.702893"
      ]
     },
     "execution_count": 3,
     "metadata": {},
     "output_type": "execute_result"
    }
   ],
   "source": [
    "Y = rand(2, 5)"
   ]
  },
  {
   "cell_type": "markdown",
   "id": "acd6fb7a-5e69-4c78-9bb1-1d1a915a2402",
   "metadata": {},
   "source": [
    "## 2.2.1 合計、平均"
   ]
  },
  {
   "cell_type": "code",
   "execution_count": 4,
   "id": "a61d7113-3033-49d6-bf0a-9a8c531b63a8",
   "metadata": {},
   "outputs": [
    {
     "name": "stdout",
     "output_type": "stream",
     "text": [
      "2.695425597503441\n",
      "0.5390851195006883\n"
     ]
    }
   ],
   "source": [
    "println(sum(X))\n",
    "println(mean(X))"
   ]
  },
  {
   "cell_type": "code",
   "execution_count": 5,
   "id": "324f5782-7565-4ee0-9d7b-c431a0551104",
   "metadata": {},
   "outputs": [
    {
     "name": "stdout",
     "output_type": "stream",
     "text": [
      "5.373063416560063\n",
      "[1.060772342932407 1.9186800257662655 0.17117474740191707 1.2274179338480216 0.9950183666114522]\n",
      "[2.422169191480432; 2.9508942250796313;;]\n",
      "0.5373063416560063\n",
      "[0.5303861714662035 0.9593400128831328 0.08558737370095854 0.6137089669240108 0.4975091833057261]\n",
      "[0.48443383829608644; 0.5901788450159262;;]\n"
     ]
    }
   ],
   "source": [
    "println(sum(Y))\n",
    "println(sum(Y, dims=1))\n",
    "println(sum(Y, dims=2))\n",
    "println(mean(Y))\n",
    "println(mean(Y, dims=1))\n",
    "println(mean(Y, dims=2))"
   ]
  },
  {
   "cell_type": "markdown",
   "id": "ee724da4-7751-4238-b551-e4a56f391148",
   "metadata": {},
   "source": [
    "## 2.2.2 分散、標準偏差"
   ]
  },
  {
   "cell_type": "code",
   "execution_count": 6,
   "id": "9064927d-a1cb-41a5-b77d-0f5e9d619024",
   "metadata": {},
   "outputs": [
    {
     "name": "stdout",
     "output_type": "stream",
     "text": [
      "0.23421152787906477\n",
      "0.05485503979144593\n",
      "0.05485503979144594\n"
     ]
    }
   ],
   "source": [
    "println(std(X))\n",
    "println(std(X).^2)\n",
    "println(var(X))"
   ]
  },
  {
   "cell_type": "markdown",
   "id": "763543cd-7071-43e1-acc7-388cba2c298b",
   "metadata": {},
   "source": [
    "## 2.2.3 共分散"
   ]
  },
  {
   "cell_type": "code",
   "execution_count": 7,
   "id": "cadcc1c0-f226-4efd-9d55-c5f65132c648",
   "metadata": {},
   "outputs": [
    {
     "data": {
      "text/plain": [
       "5×5 Matrix{Float64}:\n",
       "  0.434857    0.0209079   -0.06799     -0.332772    0.191538\n",
       "  0.0209079   0.00100525  -0.00326895  -0.0159997   0.00920912\n",
       " -0.06799    -0.00326895   0.0106303    0.052029   -0.029947\n",
       " -0.332772   -0.0159997    0.052029     0.254652   -0.146573\n",
       "  0.191538    0.00920912  -0.029947    -0.146573    0.084365"
      ]
     },
     "execution_count": 7,
     "metadata": {},
     "output_type": "execute_result"
    }
   ],
   "source": [
    "cov(Y, dims=1)"
   ]
  },
  {
   "cell_type": "code",
   "execution_count": 8,
   "id": "6eaac415-011f-4422-8a55-29e8371927e3",
   "metadata": {},
   "outputs": [
    {
     "data": {
      "text/plain": [
       "2×2 Matrix{Float64}:\n",
       " 0.190237    0.00271358\n",
       " 0.00271358  0.193968"
      ]
     },
     "execution_count": 8,
     "metadata": {},
     "output_type": "execute_result"
    }
   ],
   "source": [
    "cov(Y, dims=2)"
   ]
  },
  {
   "cell_type": "code",
   "execution_count": null,
   "id": "86f92cbe-5716-414f-862b-8362876e8383",
   "metadata": {},
   "outputs": [],
   "source": []
  }
 ],
 "metadata": {
  "kernelspec": {
   "display_name": "Julia 1.7.2",
   "language": "julia",
   "name": "julia-1.7"
  },
  "language_info": {
   "file_extension": ".jl",
   "mimetype": "application/julia",
   "name": "julia",
   "version": "1.7.2"
  }
 },
 "nbformat": 4,
 "nbformat_minor": 5
}
