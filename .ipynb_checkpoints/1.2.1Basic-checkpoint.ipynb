{
 "cells": [
  {
   "cell_type": "markdown",
   "id": "4bf2c994-9c27-4d63-8754-5f684e3d04fb",
   "metadata": {},
   "source": [
    "# 1.2 基本文法"
   ]
  },
  {
   "cell_type": "markdown",
   "id": "acd6fb7a-5e69-4c78-9bb1-1d1a915a2402",
   "metadata": {},
   "source": [
    "## 1.2.1 変数と基本演算"
   ]
  },
  {
   "cell_type": "code",
   "execution_count": 1,
   "id": "1bc5d4fd-2164-4055-bd7e-1faea30ad3ed",
   "metadata": {},
   "outputs": [
    {
     "data": {
      "text/plain": [
       "\"Hi!\""
      ]
     },
     "execution_count": 1,
     "metadata": {},
     "output_type": "execute_result"
    }
   ],
   "source": [
    "x = 3\n",
    "y = 1.2\n",
    "z = \"Hi!\""
   ]
  },
  {
   "cell_type": "code",
   "execution_count": 2,
   "id": "9287455f-9554-41d2-8234-0e10238b33de",
   "metadata": {},
   "outputs": [
    {
     "data": {
      "text/plain": [
       "Int64"
      ]
     },
     "execution_count": 2,
     "metadata": {},
     "output_type": "execute_result"
    }
   ],
   "source": [
    "typeof(x)"
   ]
  },
  {
   "cell_type": "code",
   "execution_count": 3,
   "id": "38669489-9848-4e0a-8cf5-0f69e02563a7",
   "metadata": {},
   "outputs": [
    {
     "data": {
      "text/plain": [
       "Float64"
      ]
     },
     "execution_count": 3,
     "metadata": {},
     "output_type": "execute_result"
    }
   ],
   "source": [
    "typeof(y)"
   ]
  },
  {
   "cell_type": "code",
   "execution_count": 4,
   "id": "ad9274a3-2e3c-4cc2-8c9e-6c27bb99f210",
   "metadata": {},
   "outputs": [
    {
     "data": {
      "text/plain": [
       "String"
      ]
     },
     "execution_count": 4,
     "metadata": {},
     "output_type": "execute_result"
    }
   ],
   "source": [
    "typeof(z)"
   ]
  },
  {
   "cell_type": "code",
   "execution_count": 5,
   "id": "a53c916a-96ac-4bdb-ab6c-db28f89e9da3",
   "metadata": {},
   "outputs": [
    {
     "data": {
      "text/plain": [
       "4"
      ]
     },
     "execution_count": 5,
     "metadata": {},
     "output_type": "execute_result"
    }
   ],
   "source": [
    "x + 1"
   ]
  },
  {
   "cell_type": "markdown",
   "id": "24b2e49e-3b77-4576-830a-68c5e7cb3950",
   "metadata": {},
   "source": [
    "https://docs.julialang.org/en/v1/manual/unicode-input/"
   ]
  },
  {
   "cell_type": "code",
   "execution_count": 6,
   "id": "25e8ea4d-3ecb-4e06-9519-89941ab938b0",
   "metadata": {},
   "outputs": [
    {
     "data": {
      "text/plain": [
       "4.0"
      ]
     },
     "execution_count": 6,
     "metadata": {},
     "output_type": "execute_result"
    }
   ],
   "source": [
    "# ギリシャ文字\n",
    "μ = 0.0 #(\\mu)\n",
    "σ = 2.0 #(\\sigma)\n",
    "# 下付き\n",
    "xᵢ = 0 #(x\\_i)\n",
    "# 上付き\n",
    "σ² = σ^2 #(\\sigma\\^2)"
   ]
  }
 ],
 "metadata": {
  "kernelspec": {
   "display_name": "Julia 1.7.2",
   "language": "julia",
   "name": "julia-1.7"
  },
  "language_info": {
   "file_extension": ".jl",
   "mimetype": "application/julia",
   "name": "julia",
   "version": "1.7.2"
  }
 },
 "nbformat": 4,
 "nbformat_minor": 5
}
