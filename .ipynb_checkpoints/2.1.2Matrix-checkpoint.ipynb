{
 "cells": [
  {
   "cell_type": "markdown",
   "id": "4bf2c994-9c27-4d63-8754-5f684e3d04fb",
   "metadata": {},
   "source": [
    "# 2.1 ベクトル・行列計算"
   ]
  },
  {
   "cell_type": "markdown",
   "id": "acd6fb7a-5e69-4c78-9bb1-1d1a915a2402",
   "metadata": {},
   "source": [
    "## 2.1.2 行列の計算"
   ]
  },
  {
   "cell_type": "code",
   "execution_count": 1,
   "id": "958f047d-8d76-482c-b04f-1ae63ad9fa68",
   "metadata": {},
   "outputs": [
    {
     "data": {
      "text/plain": [
       "2×3 Matrix{Int64}:\n",
       " 11  22  33\n",
       " 44  55  66"
      ]
     },
     "execution_count": 1,
     "metadata": {},
     "output_type": "execute_result"
    }
   ],
   "source": [
    "A = [1 2 3;\n",
    "     4 5 6]\n",
    "B = [10 20 30;\n",
    "     40 50 60]\n",
    "A + B"
   ]
  },
  {
   "cell_type": "markdown",
   "id": "ebe255a8-c498-4ec5-87a6-61f6a4b160d8",
   "metadata": {},
   "source": [
    "### 行列積(matrix product)"
   ]
  },
  {
   "cell_type": "code",
   "execution_count": 2,
   "id": "d9f87786-32ba-43f8-a55c-9a675e0f716b",
   "metadata": {},
   "outputs": [
    {
     "data": {
      "text/plain": [
       "3×4 Matrix{Int64}:\n",
       " 110  140  170  200\n",
       " 230  300  370  440\n",
       " 350  460  570  680"
      ]
     },
     "execution_count": 2,
     "metadata": {},
     "output_type": "execute_result"
    }
   ],
   "source": [
    "A = [1 2;\n",
    "     3 4;\n",
    "     5 6]\n",
    "B = [10 20 30 40;\n",
    "     50 60 70 80]\n",
    "C = A * B"
   ]
  },
  {
   "cell_type": "code",
   "execution_count": 3,
   "id": "71cba9d4-4ca9-4736-92b6-cd1da28e873e",
   "metadata": {},
   "outputs": [
    {
     "data": {
      "text/plain": [
       "3×4 Matrix{Int64}:\n",
       " 110  140  170  200\n",
       " 230  300  370  440\n",
       " 350  460  570  680"
      ]
     },
     "execution_count": 3,
     "metadata": {},
     "output_type": "execute_result"
    }
   ],
   "source": [
    "M = size(A, 1) # Aの行数\n",
    "N = size(B, 2) # Bの列数\n",
    "\n",
    "# M x Nの行列を作成\n",
    "C = [sum(A[i,:] .* B[:,j]) for i in 1:M, j in 1:N]"
   ]
  },
  {
   "cell_type": "code",
   "execution_count": 4,
   "id": "a1cb257d-2ca2-4234-b204-0cbe68461acb",
   "metadata": {},
   "outputs": [
    {
     "ename": "LoadError",
     "evalue": "DimensionMismatch(\"matrix A has dimensions (2,4), matrix B has dimensions (3,2)\")",
     "output_type": "error",
     "traceback": [
      "DimensionMismatch(\"matrix A has dimensions (2,4), matrix B has dimensions (3,2)\")",
      "",
      "Stacktrace:",
      " [1] _generic_matmatmul!(C::Matrix{Int64}, tA::Char, tB::Char, A::Matrix{Int64}, B::Matrix{Int64}, _add::LinearAlgebra.MulAddMul{true, true, Bool, Bool})",
      "   @ LinearAlgebra /Applications/Julia-1.7.app/Contents/Resources/julia/share/julia/stdlib/v1.7/LinearAlgebra/src/matmul.jl:810",
      " [2] generic_matmatmul!(C::Matrix{Int64}, tA::Char, tB::Char, A::Matrix{Int64}, B::Matrix{Int64}, _add::LinearAlgebra.MulAddMul{true, true, Bool, Bool})",
      "   @ LinearAlgebra /Applications/Julia-1.7.app/Contents/Resources/julia/share/julia/stdlib/v1.7/LinearAlgebra/src/matmul.jl:798",
      " [3] mul!",
      "   @ /Applications/Julia-1.7.app/Contents/Resources/julia/share/julia/stdlib/v1.7/LinearAlgebra/src/matmul.jl:302 [inlined]",
      " [4] mul!",
      "   @ /Applications/Julia-1.7.app/Contents/Resources/julia/share/julia/stdlib/v1.7/LinearAlgebra/src/matmul.jl:275 [inlined]",
      " [5] *(A::Matrix{Int64}, B::Matrix{Int64})",
      "   @ LinearAlgebra /Applications/Julia-1.7.app/Contents/Resources/julia/share/julia/stdlib/v1.7/LinearAlgebra/src/matmul.jl:153",
      " [6] top-level scope",
      "   @ In[4]:1",
      " [7] eval",
      "   @ ./boot.jl:373 [inlined]",
      " [8] include_string(mapexpr::typeof(REPL.softscope), mod::Module, code::String, filename::String)",
      "   @ Base ./loading.jl:1196"
     ]
    }
   ],
   "source": [
    "B * A"
   ]
  },
  {
   "cell_type": "markdown",
   "id": "9772b7fb-1f80-4ca3-852a-6e79e4b46148",
   "metadata": {},
   "source": [
    "### 単位行列(identity matrix)"
   ]
  },
  {
   "cell_type": "code",
   "execution_count": 5,
   "id": "7c13c231-5065-4a39-b92a-9ad0f8d22018",
   "metadata": {},
   "outputs": [
    {
     "data": {
      "text/plain": [
       "3×2 Matrix{Int64}:\n",
       " 1  2\n",
       " 3  4\n",
       " 5  6"
      ]
     },
     "execution_count": 5,
     "metadata": {},
     "output_type": "execute_result"
    }
   ],
   "source": [
    "A = [1 2;\n",
    "     3 4;\n",
    "     5 6]\n",
    "I = [1 0 0;\n",
    "     0 1 0;\n",
    "     0 0 1]\n",
    "I * A"
   ]
  },
  {
   "cell_type": "code",
   "execution_count": 6,
   "id": "b6189874-3972-4b65-9fe3-c1242b848dd2",
   "metadata": {},
   "outputs": [
    {
     "data": {
      "text/plain": [
       "3×2 adjoint(::Matrix{Int64}) with eltype Int64:\n",
       " 1  4\n",
       " 2  5\n",
       " 3  6"
      ]
     },
     "execution_count": 6,
     "metadata": {},
     "output_type": "execute_result"
    }
   ],
   "source": [
    "A = [1 2 3;\n",
    "     4 5 6]\n",
    "A'"
   ]
  },
  {
   "cell_type": "code",
   "execution_count": 7,
   "id": "481bb9db-9ace-4aa2-b1c5-00cd06a63a7b",
   "metadata": {},
   "outputs": [
    {
     "data": {
      "text/plain": [
       "3×2 Matrix{Int64}:\n",
       "  5   7\n",
       " 10  14\n",
       " 15  21"
      ]
     },
     "execution_count": 7,
     "metadata": {},
     "output_type": "execute_result"
    }
   ],
   "source": [
    "a = [1,2,3]\n",
    "b = [5,7]\n",
    "a * b'"
   ]
  },
  {
   "cell_type": "code",
   "execution_count": 8,
   "id": "907b0496-3d64-4a02-a199-59e36d187bd2",
   "metadata": {},
   "outputs": [
    {
     "data": {
      "text/plain": [
       "3×2 Matrix{Int64}:\n",
       "  7   9\n",
       "  9  11\n",
       " 11  13"
      ]
     },
     "execution_count": 8,
     "metadata": {},
     "output_type": "execute_result"
    }
   ],
   "source": [
    "f2(x, y) = 2*x + y\n",
    "f2.(a, b')"
   ]
  },
  {
   "cell_type": "markdown",
   "id": "8cc5f7a3-a17b-481f-a6e0-1b0ed4dbb344",
   "metadata": {},
   "source": [
    "### 逆行列(inverse matrix)"
   ]
  },
  {
   "cell_type": "code",
   "execution_count": 9,
   "id": "08277e3c-b352-419c-b315-b07f8a58d9a3",
   "metadata": {},
   "outputs": [
    {
     "data": {
      "text/plain": [
       "2×2 Matrix{Float64}:\n",
       " -2.0   1.0\n",
       "  1.5  -0.5"
      ]
     },
     "execution_count": 9,
     "metadata": {},
     "output_type": "execute_result"
    }
   ],
   "source": [
    "A = [1 2;\n",
    "     3 4]\n",
    "B = inv(A)"
   ]
  },
  {
   "cell_type": "code",
   "execution_count": 10,
   "id": "c99f192d-cc87-4f46-b79f-24343ff6ccd4",
   "metadata": {},
   "outputs": [
    {
     "data": {
      "text/plain": [
       "2×2 Matrix{Float64}:\n",
       " 1.0          0.0\n",
       " 8.88178e-16  1.0"
      ]
     },
     "execution_count": 10,
     "metadata": {},
     "output_type": "execute_result"
    }
   ],
   "source": [
    "A * B"
   ]
  },
  {
   "cell_type": "code",
   "execution_count": 11,
   "id": "388aaf88-ea4f-4a61-a301-0693ff66e9f1",
   "metadata": {},
   "outputs": [
    {
     "data": {
      "text/plain": [
       "2×2 Matrix{Float64}:\n",
       " 1.0          0.0\n",
       " 2.22045e-16  1.0"
      ]
     },
     "execution_count": 11,
     "metadata": {},
     "output_type": "execute_result"
    }
   ],
   "source": [
    "B * A"
   ]
  },
  {
   "cell_type": "code",
   "execution_count": 12,
   "id": "e07dc380-aad0-4f15-adb9-c0703e7e06c7",
   "metadata": {},
   "outputs": [
    {
     "name": "stdout",
     "output_type": "stream",
     "text": [
      "[-1.9999999999999996 0.9999999999999998; 1.4999999999999998 -0.4999999999999999]\n"
     ]
    }
   ],
   "source": [
    "println(B)"
   ]
  },
  {
   "cell_type": "code",
   "execution_count": 13,
   "id": "5d121f4a-6fc8-42df-9ed0-972abaca959a",
   "metadata": {},
   "outputs": [
    {
     "name": "stdout",
     "output_type": "stream",
     "text": [
      "Rational{Int64}[1//1 0//1; 0//1 1//1]\n",
      "Rational{Int64}[1//1 0//1; 0//1 1//1]\n"
     ]
    }
   ],
   "source": [
    "A = Rational{Int}[1 2;\n",
    "                  3 4]\n",
    "B = inv(A)\n",
    "println(A * B)\n",
    "println(B * A)"
   ]
  },
  {
   "cell_type": "code",
   "execution_count": 15,
   "id": "a479848f-3fab-46da-ab22-d68ee43d9aa2",
   "metadata": {},
   "outputs": [
    {
     "data": {
      "text/plain": [
       "2×2 Matrix{Rational{Int64}}:\n",
       " -2//1   1//1\n",
       "  3//2  -1//2"
      ]
     },
     "execution_count": 15,
     "metadata": {},
     "output_type": "execute_result"
    }
   ],
   "source": [
    "B"
   ]
  },
  {
   "cell_type": "code",
   "execution_count": 16,
   "id": "7740a35b-e18c-4c01-9935-3b98cbbebcaf",
   "metadata": {},
   "outputs": [
    {
     "data": {
      "text/plain": [
       "2-element Vector{Rational{Int64}}:\n",
       "  3//1\n",
       " -2//1"
      ]
     },
     "execution_count": 16,
     "metadata": {},
     "output_type": "execute_result"
    }
   ],
   "source": [
    "A = Rational{Int}[1 2;\n",
    "                  3 4]\n",
    "sol = inv(A) * [-1, 1]"
   ]
  },
  {
   "cell_type": "code",
   "execution_count": null,
   "id": "71be726b-05b7-4bc6-b49f-92c9c821d77a",
   "metadata": {},
   "outputs": [],
   "source": []
  }
 ],
 "metadata": {
  "kernelspec": {
   "display_name": "Julia 1.7.2",
   "language": "julia",
   "name": "julia-1.7"
  },
  "language_info": {
   "file_extension": ".jl",
   "mimetype": "application/julia",
   "name": "julia",
   "version": "1.7.2"
  }
 },
 "nbformat": 4,
 "nbformat_minor": 5
}
