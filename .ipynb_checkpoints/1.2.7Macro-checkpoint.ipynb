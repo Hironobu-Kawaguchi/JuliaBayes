{
 "cells": [
  {
   "cell_type": "markdown",
   "id": "4bf2c994-9c27-4d63-8754-5f684e3d04fb",
   "metadata": {},
   "source": [
    "# 1.2 基本文法"
   ]
  },
  {
   "cell_type": "markdown",
   "id": "7e3425fd-3581-41df-a77d-c17fa223c801",
   "metadata": {},
   "source": [
    "## 1.2.7 マクロ"
   ]
  },
  {
   "cell_type": "code",
   "execution_count": 1,
   "id": "6deb4574-70f6-4709-afe5-7b359e0aa55b",
   "metadata": {},
   "outputs": [
    {
     "name": "stdout",
     "output_type": "stream",
     "text": [
      "  0.003201 seconds (201.49 k allocations: 4.970 MiB, 36.52% compilation time)\n"
     ]
    },
    {
     "data": {
      "text/plain": [
       "-136.487360858729"
      ]
     },
     "execution_count": 1,
     "metadata": {},
     "output_type": "execute_result"
    }
   ],
   "source": [
    "function test(maxiter)\n",
    "    a = []\n",
    "    for i in 1:maxiter\n",
    "        push!(a, randn())\n",
    "    end\n",
    "    sum(a)\n",
    "end\n",
    "\n",
    "@time test(100000)"
   ]
  },
  {
   "cell_type": "code",
   "execution_count": null,
   "id": "2468d8ce-40ca-457e-ae9d-08a0ddd6ec27",
   "metadata": {},
   "outputs": [],
   "source": []
  }
 ],
 "metadata": {
  "kernelspec": {
   "display_name": "Julia 1.7.2",
   "language": "julia",
   "name": "julia-1.7"
  },
  "language_info": {
   "file_extension": ".jl",
   "mimetype": "application/julia",
   "name": "julia",
   "version": "1.7.2"
  }
 },
 "nbformat": 4,
 "nbformat_minor": 5
}
