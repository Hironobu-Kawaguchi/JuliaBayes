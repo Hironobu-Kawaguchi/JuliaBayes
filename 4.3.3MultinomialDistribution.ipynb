{
 "cells": [
  {
   "cell_type": "markdown",
   "id": "4bf2c994-9c27-4d63-8754-5f684e3d04fb",
   "metadata": {},
   "source": [
    "# 4.3 離散型確率分布"
   ]
  },
  {
   "cell_type": "code",
   "execution_count": 2,
   "id": "f59c61df-2c0a-4f11-b234-146f602189fa",
   "metadata": {},
   "outputs": [],
   "source": [
    "using Distributions\n",
    "using PyPlot"
   ]
  },
  {
   "cell_type": "code",
   "execution_count": 3,
   "id": "3cd5fe55-9337-4969-9b22-cd055666e221",
   "metadata": {},
   "outputs": [
    {
     "data": {
      "text/plain": [
       "set_options (generic function with 1 method)"
      ]
     },
     "execution_count": 3,
     "metadata": {},
     "output_type": "execute_result"
    }
   ],
   "source": [
    "function set_options(ax, xlabel, ylabel, title;\n",
    "                     grid=true, gridy=false, legend=false)\n",
    "    ax.set_xlabel(xlabel)\n",
    "    ax.set_ylabel(ylabel)\n",
    "    ax.set_title(title)\n",
    "    if grid\n",
    "        if gridy\n",
    "            ax.grid(axis=\"y\")\n",
    "        else\n",
    "            ax.grid()\n",
    "        end\n",
    "    end\n",
    "    legend && ax.legend()\n",
    "end"
   ]
  },
  {
   "cell_type": "markdown",
   "id": "b16e115b-3aa2-4122-9ab2-4d8ce1878ef3",
   "metadata": {},
   "source": [
    "## 4.3.3 多項分布"
   ]
  },
  {
   "cell_type": "code",
   "execution_count": 4,
   "id": "e76510bf-dc8d-4178-9737-4a4df6150f09",
   "metadata": {},
   "outputs": [
    {
     "data": {
      "text/plain": [
       "Multinomial{Float64, Vector{Float64}}(n=10, p=[0.5, 0.3, 0.2])"
      ]
     },
     "execution_count": 4,
     "metadata": {},
     "output_type": "execute_result"
    }
   ],
   "source": [
    "M = 10\n",
    "d = Multinomial(M, [0.5, 0.3, 0.2])"
   ]
  },
  {
   "cell_type": "code",
   "execution_count": 6,
   "id": "04a75e9a-2ae7-4215-aada-bee35f34ca0f",
   "metadata": {},
   "outputs": [
    {
     "data": {
      "text/plain": [
       "3-element Vector{Int64}:\n",
       " 6\n",
       " 3\n",
       " 1"
      ]
     },
     "execution_count": 6,
     "metadata": {},
     "output_type": "execute_result"
    }
   ],
   "source": [
    "x = rand(d)"
   ]
  },
  {
   "cell_type": "code",
   "execution_count": 7,
   "id": "418a441d-bff1-46d0-95da-3200118e8be3",
   "metadata": {},
   "outputs": [
    {
     "data": {
      "text/plain": [
       "3×100 Matrix{Int64}:\n",
       " 6  5  5  2  4  5  9  3  6  4  3  5  6  …  6  7  4  5  6  7  6  8  3  6  5  5\n",
       " 2  3  4  5  4  2  1  6  2  2  2  5  3     3  2  4  3  2  2  4  1  5  2  1  4\n",
       " 2  2  1  3  2  3  0  1  2  4  5  0  1     1  1  2  2  2  1  0  1  2  2  4  1"
      ]
     },
     "execution_count": 7,
     "metadata": {},
     "output_type": "execute_result"
    }
   ],
   "source": [
    "X = rand(d, 100)"
   ]
  },
  {
   "cell_type": "code",
   "execution_count": 8,
   "id": "ef3cca33-1db4-4370-a021-4949ce9ac13d",
   "metadata": {},
   "outputs": [
    {
     "data": {
      "text/plain": [
       "3×1 Matrix{Float64}:\n",
       " 5.21\n",
       " 2.75\n",
       " 2.04"
      ]
     },
     "execution_count": 8,
     "metadata": {},
     "output_type": "execute_result"
    }
   ],
   "source": [
    "mean(X, dims=2)"
   ]
  },
  {
   "cell_type": "code",
   "execution_count": 9,
   "id": "2d1c5c5d-7f3f-44f6-aeb7-103e33bec0ad",
   "metadata": {},
   "outputs": [
    {
     "data": {
      "text/plain": [
       "3-element Vector{Float64}:\n",
       " 5.0\n",
       " 3.0\n",
       " 2.0"
      ]
     },
     "execution_count": 9,
     "metadata": {},
     "output_type": "execute_result"
    }
   ],
   "source": [
    "mean(d)"
   ]
  },
  {
   "cell_type": "code",
   "execution_count": 10,
   "id": "4e09bffc-b684-40e9-99d8-b3ddcead741e",
   "metadata": {},
   "outputs": [
    {
     "data": {
      "text/plain": [
       "3×3 Matrix{Float64}:\n",
       "  3.01606  -1.47222  -1.54384\n",
       " -1.47222   2.16919  -0.69697\n",
       " -1.54384  -0.69697   2.24081"
      ]
     },
     "execution_count": 10,
     "metadata": {},
     "output_type": "execute_result"
    }
   ],
   "source": [
    "cov(X, dims=2)"
   ]
  },
  {
   "cell_type": "code",
   "execution_count": 11,
   "id": "172b77dc-886c-4ea6-8499-7ecc639343e2",
   "metadata": {},
   "outputs": [
    {
     "data": {
      "text/plain": [
       "3×3 Matrix{Float64}:\n",
       "  2.5  -1.5  -1.0\n",
       " -1.5   2.1  -0.6\n",
       " -1.0  -0.6   1.6"
      ]
     },
     "execution_count": 11,
     "metadata": {},
     "output_type": "execute_result"
    }
   ],
   "source": [
    "cov(d)"
   ]
  },
  {
   "cell_type": "code",
   "execution_count": 13,
   "id": "eb4b23b2-9d25-4268-889b-5f10e441c799",
   "metadata": {},
   "outputs": [
    {
     "data": {
      "image/png": "[encoded data removed]",
      "text/plain": [
       "Figure(PyObject <Figure size 640x480 with 2 Axes>)"
      ]
     },
     "metadata": {},
     "output_type": "display_data"
    },
    {
     "data": {
      "text/plain": [
       "false"
      ]
     },
     "execution_count": 13,
     "metadata": {},
     "output_type": "execute_result"
    }
   ],
   "source": [
    "# 各次元の値のとる範囲\n",
    "xs = 0:M\n",
    "\n",
    "fig, ax = subplots()\n",
    "cs = ax.imshow([pdf(d, [x₁, x₂, M - (x₁ + x₂)]) for x₁ in xs, x₂ in xs]',\n",
    "               origin=\"lower\")\n",
    "fig.colorbar(cs)\n",
    "set_options(ax, \"x₁\", \"x₂\", \"\"; gridy=false)"
   ]
  },
  {
   "cell_type": "code",
   "execution_count": null,
   "id": "0c5b625a-7570-45f5-87db-01a5bc629e9a",
   "metadata": {},
   "outputs": [],
   "source": []
  }
 ],
 "metadata": {
  "kernelspec": {
   "display_name": "Julia 1.7.2",
   "language": "julia",
   "name": "julia-1.7"
  },
  "language_info": {
   "file_extension": ".jl",
   "mimetype": "application/julia",
   "name": "julia",
   "version": "1.7.2"
  }
 },
 "nbformat": 4,
 "nbformat_minor": 5
}
