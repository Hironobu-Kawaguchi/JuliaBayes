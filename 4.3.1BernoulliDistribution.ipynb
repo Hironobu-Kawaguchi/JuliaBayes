{
 "cells": [
  {
   "cell_type": "markdown",
   "id": "4bf2c994-9c27-4d63-8754-5f684e3d04fb",
   "metadata": {},
   "source": [
    "# 4.3 離散型確率分布"
   ]
  },
  {
   "cell_type": "code",
   "execution_count": 2,
   "id": "f59c61df-2c0a-4f11-b234-146f602189fa",
   "metadata": {},
   "outputs": [],
   "source": [
    "using Distributions\n",
    "using PyPlot"
   ]
  },
  {
   "cell_type": "code",
   "execution_count": 3,
   "id": "3cd5fe55-9337-4969-9b22-cd055666e221",
   "metadata": {},
   "outputs": [
    {
     "data": {
      "text/plain": [
       "set_options (generic function with 1 method)"
      ]
     },
     "execution_count": 3,
     "metadata": {},
     "output_type": "execute_result"
    }
   ],
   "source": [
    "function set_options(ax, xlabel, ylabel, title;\n",
    "                     grid=true, gridy=false, legend=false)\n",
    "    ax.set_xlabel(xlabel)\n",
    "    ax.set_ylabel(ylabel)\n",
    "    ax.set_title(title)\n",
    "    if grid\n",
    "        if gridy\n",
    "            ax.grid(axis=\"y\")\n",
    "        else\n",
    "            ax.grid()\n",
    "        end\n",
    "    end\n",
    "    legend && ax.legend()\n",
    "end"
   ]
  },
  {
   "cell_type": "markdown",
   "id": "b16e115b-3aa2-4122-9ab2-4d8ce1878ef3",
   "metadata": {},
   "source": [
    "## 4.3.1 ベルヌーイ分布"
   ]
  },
  {
   "cell_type": "code",
   "execution_count": 4,
   "id": "e76510bf-dc8d-4178-9737-4a4df6150f09",
   "metadata": {},
   "outputs": [
    {
     "data": {
      "text/plain": [
       "Bernoulli{Float64}(p=0.3)"
      ]
     },
     "execution_count": 4,
     "metadata": {},
     "output_type": "execute_result"
    }
   ],
   "source": [
    "# 分布を作る\n",
    "d = Bernoulli(0.3)"
   ]
  },
  {
   "cell_type": "code",
   "execution_count": 5,
   "id": "04a75e9a-2ae7-4215-aada-bee35f34ca0f",
   "metadata": {},
   "outputs": [
    {
     "data": {
      "text/plain": [
       "true"
      ]
     },
     "execution_count": 5,
     "metadata": {},
     "output_type": "execute_result"
    }
   ],
   "source": [
    "x = rand(d)\n",
    "x"
   ]
  },
  {
   "cell_type": "code",
   "execution_count": 6,
   "id": "7f8be2d6-fb61-4382-a274-101c1accc745",
   "metadata": {},
   "outputs": [
    {
     "name": "stdout",
     "output_type": "stream",
     "text": [
      "true\n",
      "1\n"
     ]
    }
   ],
   "source": [
    "println(x)\n",
    "println(Int(x))"
   ]
  },
  {
   "cell_type": "code",
   "execution_count": 7,
   "id": "2d679e88-cc72-4028-8d14-74f1e50d34f0",
   "metadata": {},
   "outputs": [
    {
     "data": {
      "text/plain": [
       "1×10 adjoint(::Vector{Bool}) with eltype Bool:\n",
       " 0  0  0  1  0  1  0  0  0  0"
      ]
     },
     "execution_count": 7,
     "metadata": {},
     "output_type": "execute_result"
    }
   ],
   "source": [
    "# 10個の独立なサンプルを得る\n",
    "X = rand(d, 10)\n",
    "X'"
   ]
  },
  {
   "cell_type": "code",
   "execution_count": 9,
   "id": "2d4e9ea2-b08c-4aa7-854f-4e567a71e1c1",
   "metadata": {},
   "outputs": [
    {
     "name": "stdout",
     "output_type": "stream",
     "text": [
      "0.3\n",
      "0.7\n",
      "0.0\n"
     ]
    }
   ],
   "source": [
    "# 1が生成される確率\n",
    "println(pdf(d, 1))\n",
    "\n",
    "# 0が生成される確率\n",
    "println(pdf(d, 0))\n",
    "\n",
    "# -1が生成される確率\n",
    "println(pdf(d, -1))"
   ]
  },
  {
   "cell_type": "code",
   "execution_count": 10,
   "id": "e3047b59-79c0-4a32-bbc1-7c18020c9844",
   "metadata": {},
   "outputs": [
    {
     "data": {
      "image/png": "[encoded data removed]",
      "text/plain": [
       "Figure(PyObject <Figure size 640x480 with 1 Axes>)"
      ]
     },
     "metadata": {},
     "output_type": "display_data"
    },
    {
     "data": {
      "text/plain": [
       "false"
      ]
     },
     "execution_count": 10,
     "metadata": {},
     "output_type": "execute_result"
    }
   ],
   "source": [
    "fig, ax = subplots()\n",
    "ax.bar([0,1], pdf.(d, [0,1]))\n",
    "set_options(ax, \"x\", \"probability\", \"probability mass function\";\n",
    "            gridy=true)"
   ]
  },
  {
   "cell_type": "code",
   "execution_count": 11,
   "id": "017f48dc-8ad6-43b5-9906-e0bc0e046ae4",
   "metadata": {},
   "outputs": [
    {
     "name": "stdout",
     "output_type": "stream",
     "text": [
      "mean = 0.3, std = 0.458257569495584\n"
     ]
    }
   ],
   "source": [
    "println(\"mean = $(mean(d)), std = $(std(d))\")"
   ]
  },
  {
   "cell_type": "code",
   "execution_count": 13,
   "id": "1e34823d-7eed-4497-8621-d480d8131cc7",
   "metadata": {},
   "outputs": [
    {
     "name": "stdout",
     "output_type": "stream",
     "text": [
      "std = 0.458257569495584\n"
     ]
    }
   ],
   "source": [
    "μ = 0.3\n",
    "println(\"std = $(sqrt(μ*(1-μ)))\")"
   ]
  },
  {
   "cell_type": "code",
   "execution_count": 14,
   "id": "597963d9-4ef0-4ed7-bfb1-cdee49f73c46",
   "metadata": {},
   "outputs": [
    {
     "name": "stdout",
     "output_type": "stream",
     "text": [
      "mean ≈ 0.3007, std ≈ 0.458585368338334\n"
     ]
    }
   ],
   "source": [
    "X = rand(d, 10000)\n",
    "println(\"mean ≈ $(mean(X)), std ≈ $(std(X))\")"
   ]
  },
  {
   "cell_type": "code",
   "execution_count": null,
   "id": "75dafe9f-6350-4650-bc1a-b9760890a334",
   "metadata": {},
   "outputs": [],
   "source": []
  }
 ],
 "metadata": {
  "kernelspec": {
   "display_name": "Julia 1.7.2",
   "language": "julia",
   "name": "julia-1.7"
  },
  "language_info": {
   "file_extension": ".jl",
   "mimetype": "application/julia",
   "name": "julia",
   "version": "1.7.2"
  }
 },
 "nbformat": 4,
 "nbformat_minor": 5
}
