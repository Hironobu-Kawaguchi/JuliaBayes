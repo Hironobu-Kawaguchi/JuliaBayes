{
 "cells": [
  {
   "cell_type": "markdown",
   "id": "4bf2c994-9c27-4d63-8754-5f684e3d04fb",
   "metadata": {},
   "source": [
    "# 2.3 統計量と確率分布のパラメーター"
   ]
  },
  {
   "cell_type": "code",
   "execution_count": 1,
   "id": "fbdd628a-3f3a-4a46-b533-a8275035cdc3",
   "metadata": {},
   "outputs": [],
   "source": [
    "using Distributions"
   ]
  },
  {
   "cell_type": "code",
   "execution_count": 31,
   "id": "9d9733a9-11be-4dff-a38a-23d1e187218d",
   "metadata": {},
   "outputs": [
    {
     "data": {
      "text/plain": [
       "10000-element Vector{Float64}:\n",
       "  0.7878652895746793\n",
       " -0.989704526046399\n",
       "  1.8055112782237805\n",
       "  1.9225004911290842\n",
       "  0.8407385191423936\n",
       " -1.5055486894528434\n",
       "  1.3128350637740103\n",
       "  2.5825925135522185\n",
       "  4.928590213110505\n",
       " -1.2303439166588577\n",
       " -0.24157663221038228\n",
       "  0.6556156935193844\n",
       "  2.090212426979587\n",
       "  ⋮\n",
       "  2.1905121490614863\n",
       "  4.0383109666645804\n",
       " -4.155272356188175\n",
       "  3.054425219068017\n",
       "  2.438749227485091\n",
       "  1.4449851901996398\n",
       "  1.2232041158438758\n",
       "  2.393003528181154\n",
       "  2.5790212220227144\n",
       "  1.8554411479556574\n",
       "  1.3880152444910505\n",
       "  1.335602943322128"
      ]
     },
     "execution_count": 31,
     "metadata": {},
     "output_type": "execute_result"
    }
   ],
   "source": [
    "μ = 1.5\n",
    "σ = 2.0\n",
    "Z = rand(Normal(μ, σ), 10000)\n",
    "Z"
   ]
  },
  {
   "cell_type": "code",
   "execution_count": 16,
   "id": "7dc3160b-d81e-468c-8ecd-c6bcc7c006f1",
   "metadata": {},
   "outputs": [
    {
     "name": "stdout",
     "output_type": "stream",
     "text": [
      "1.5165859871868674\n",
      "2.0151765992400614\n"
     ]
    }
   ],
   "source": [
    "println(mean(Z))\n",
    "println(std(Z))"
   ]
  },
  {
   "cell_type": "markdown",
   "id": "d555adc5-dd29-4b91-b1e2-a052fda30b0b",
   "metadata": {},
   "source": [
    "### randnと比較"
   ]
  },
  {
   "cell_type": "code",
   "execution_count": 33,
   "id": "c9ac27ff-957e-47e7-b7ae-8e527b7df225",
   "metadata": {},
   "outputs": [
    {
     "data": {
      "text/plain": [
       "10000-element Vector{Float64}:\n",
       " -2.0342367796813816\n",
       "  1.5366999814540707\n",
       "  1.7338271370266405\n",
       "  1.8534214947937067\n",
       "  3.501075198357378\n",
       "  3.649367483554333\n",
       "  0.7148067329793989\n",
       "  2.4430545596745885\n",
       "  1.9002727735026748\n",
       " -2.0303176996546792\n",
       "  0.24016061728483895\n",
       "  4.989705584953277\n",
       "  3.3346880673440573\n",
       "  ⋮\n",
       "  1.6266333551573837\n",
       "  1.03749559690215\n",
       "  1.1672774676739208\n",
       "  2.742987193709859\n",
       " -1.177010350772596\n",
       "  8.213699678482044\n",
       "  2.587118751102799\n",
       "  2.1063058919661923\n",
       "  1.2985051266088474\n",
       "  3.976858044244593\n",
       "  2.8481780400704917\n",
       "  1.3728047238577454"
      ]
     },
     "execution_count": 33,
     "metadata": {},
     "output_type": "execute_result"
    }
   ],
   "source": [
    "ZZ = randn(10000) .* 2 .+ 1.5"
   ]
  },
  {
   "cell_type": "code",
   "execution_count": 14,
   "id": "3ffc2d3d-7c8f-4612-bf29-381ce6bac277",
   "metadata": {},
   "outputs": [
    {
     "name": "stdout",
     "output_type": "stream",
     "text": [
      "1.4955173489583102\n",
      "2.0251312607320053\n"
     ]
    }
   ],
   "source": [
    "println(mean(ZZ))\n",
    "println(std(ZZ))"
   ]
  },
  {
   "cell_type": "markdown",
   "id": "64f07315-9c5e-41f5-945c-cef953b97a54",
   "metadata": {},
   "source": [
    "### 時間比較"
   ]
  },
  {
   "cell_type": "code",
   "execution_count": 24,
   "id": "1af4002b-273e-467b-a6b3-1b8582720d9f",
   "metadata": {},
   "outputs": [
    {
     "data": {
      "text/plain": [
       "f_normal (generic function with 4 methods)"
      ]
     },
     "execution_count": 24,
     "metadata": {},
     "output_type": "execute_result"
    }
   ],
   "source": [
    "function f_normal(n=10000, μ=1.5, σ=2.0)\n",
    "    return rand(Normal(μ, σ), n)\n",
    "end"
   ]
  },
  {
   "cell_type": "code",
   "execution_count": 35,
   "id": "63c2b984-e11f-4a7a-8527-38a4fef9b4a0",
   "metadata": {},
   "outputs": [
    {
     "data": {
      "text/plain": [
       "f_randn (generic function with 4 methods)"
      ]
     },
     "execution_count": 35,
     "metadata": {},
     "output_type": "execute_result"
    }
   ],
   "source": [
    "function f_randn(n=10000, μ=1.5, σ=2.0)\n",
    "    return randn(n) .* σ .+ μ\n",
    "end"
   ]
  },
  {
   "cell_type": "code",
   "execution_count": 49,
   "id": "e1d66d53-1819-42b5-8025-0a274f2c89d6",
   "metadata": {},
   "outputs": [
    {
     "name": "stdout",
     "output_type": "stream",
     "text": [
      "  0.470183 seconds (2 allocations: 762.939 MiB, 2.65% gc time)\n"
     ]
    },
    {
     "data": {
      "text/plain": [
       "100000000-element Vector{Float64}:\n",
       "  0.7105967013375206\n",
       "  0.7616339001836446\n",
       "  1.2432255848871867\n",
       "  1.7467616188192658\n",
       "  3.548244733951005\n",
       "  0.6523978601160642\n",
       "  0.7759572324354359\n",
       "  2.320089859005795\n",
       "  2.1564447260722504\n",
       "  3.108780279488556\n",
       "  3.963728629637653\n",
       "  4.816273804622724\n",
       "  0.49930137587708256\n",
       "  ⋮\n",
       "  2.492807796107493\n",
       "  0.4684813216764405\n",
       "  3.913064006806819\n",
       " -0.43720826946931957\n",
       "  0.6175518201718297\n",
       " -0.7550343894669429\n",
       "  2.6520594591425697\n",
       "  1.7207373406542377\n",
       "  1.0032672875331978\n",
       "  1.318731235862356\n",
       "  4.273134097398103\n",
       "  2.4114215280332476"
      ]
     },
     "execution_count": 49,
     "metadata": {},
     "output_type": "execute_result"
    }
   ],
   "source": [
    "@time f_normal(10^8)"
   ]
  },
  {
   "cell_type": "code",
   "execution_count": 48,
   "id": "96081d95-c662-47c2-8cdc-af444da546d4",
   "metadata": {},
   "outputs": [
    {
     "name": "stdout",
     "output_type": "stream",
     "text": [
      "  0.379605 seconds (4 allocations: 1.490 GiB, 3.25% gc time)\n"
     ]
    },
    {
     "data": {
      "text/plain": [
       "100000000-element Vector{Float64}:\n",
       " -0.25497775643777554\n",
       "  3.6020090010884904\n",
       " -2.5193011378266306\n",
       "  1.969495766060097\n",
       "  1.4466783052060181\n",
       " -0.13010150644057017\n",
       "  3.647249030498748\n",
       "  3.6844306080378497\n",
       "  3.0693633534037614\n",
       " -2.360456096766544\n",
       " -0.0969383158622894\n",
       " -1.4885225326598364\n",
       "  3.196439355779768\n",
       "  ⋮\n",
       "  3.543747756294929\n",
       " -1.3572076059717073\n",
       "  0.09351397892013114\n",
       "  0.3484994521550182\n",
       "  1.4300790061611075\n",
       "  1.8372806093142595\n",
       "  0.7836227290642921\n",
       "  0.09432623411947394\n",
       "  0.22735266555224198\n",
       "  1.5597721259555346\n",
       " -3.2427320692901116\n",
       "  2.779958757315441"
      ]
     },
     "execution_count": 48,
     "metadata": {},
     "output_type": "execute_result"
    }
   ],
   "source": [
    "@time f_randn(10^8)"
   ]
  },
  {
   "cell_type": "code",
   "execution_count": null,
   "id": "4dadc05f-d4a5-4dcc-a7a2-5d1286e64224",
   "metadata": {},
   "outputs": [],
   "source": []
  }
 ],
 "metadata": {
  "kernelspec": {
   "display_name": "Julia 1.7.2",
   "language": "julia",
   "name": "julia-1.7"
  },
  "language_info": {
   "file_extension": ".jl",
   "mimetype": "application/julia",
   "name": "julia",
   "version": "1.7.2"
  }
 },
 "nbformat": 4,
 "nbformat_minor": 5
}
