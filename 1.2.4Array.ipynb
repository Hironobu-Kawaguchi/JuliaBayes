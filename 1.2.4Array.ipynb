{
 "cells": [
  {
   "cell_type": "markdown",
   "id": "4bf2c994-9c27-4d63-8754-5f684e3d04fb",
   "metadata": {},
   "source": [
    "# 1.2 基本文法"
   ]
  },
  {
   "cell_type": "markdown",
   "id": "7e3425fd-3581-41df-a77d-c17fa223c801",
   "metadata": {},
   "source": [
    "## 1.2.4 配列"
   ]
  },
  {
   "cell_type": "code",
   "execution_count": 1,
   "id": "bd59755d-fe6b-48cc-95d5-fc443a78f994",
   "metadata": {},
   "outputs": [
    {
     "data": {
      "text/plain": [
       "3-element Vector{Int64}:\n",
       " 1\n",
       " 2\n",
       " 3"
      ]
     },
     "execution_count": 1,
     "metadata": {},
     "output_type": "execute_result"
    }
   ],
   "source": [
    "a = [1, 2, 3]"
   ]
  },
  {
   "cell_type": "code",
   "execution_count": 2,
   "id": "24759c10-6400-443f-b7a5-97d94ade3040",
   "metadata": {},
   "outputs": [
    {
     "data": {
      "text/plain": [
       "1×3 Matrix{Int64}:\n",
       " 1  2  3"
      ]
     },
     "execution_count": 2,
     "metadata": {},
     "output_type": "execute_result"
    }
   ],
   "source": [
    "b = [1 2 3]"
   ]
  },
  {
   "cell_type": "code",
   "execution_count": 3,
   "id": "8d44e5ac-8667-4201-bba2-a846104794d4",
   "metadata": {},
   "outputs": [
    {
     "data": {
      "text/plain": [
       "3-element Vector{Float64}:\n",
       " 2.12199579116e-313\n",
       " 1.48539705407e-313\n",
       " 2.1219957915e-314"
      ]
     },
     "execution_count": 3,
     "metadata": {},
     "output_type": "execute_result"
    }
   ],
   "source": [
    "c = Array{Float64}(undef, 3)"
   ]
  },
  {
   "cell_type": "code",
   "execution_count": 4,
   "id": "b6fdffbd-8f7b-47b9-a206-22ca16595a0f",
   "metadata": {},
   "outputs": [
    {
     "data": {
      "text/plain": [
       "3-element Vector{Float64}:\n",
       " 0.0\n",
       " 0.0\n",
       " 0.0"
      ]
     },
     "execution_count": 4,
     "metadata": {},
     "output_type": "execute_result"
    }
   ],
   "source": [
    "d = zeros(3)"
   ]
  },
  {
   "cell_type": "code",
   "execution_count": 5,
   "id": "d4ad4aed-89eb-4181-9a71-cd56cd417e7e",
   "metadata": {},
   "outputs": [
    {
     "data": {
      "text/plain": [
       "3-element Vector{Float64}:\n",
       " 1.0\n",
       " 1.0\n",
       " 1.0"
      ]
     },
     "execution_count": 5,
     "metadata": {},
     "output_type": "execute_result"
    }
   ],
   "source": [
    "e = ones(3)"
   ]
  },
  {
   "cell_type": "code",
   "execution_count": 6,
   "id": "b11c0657-9d4e-4909-a90c-b5927227b555",
   "metadata": {},
   "outputs": [
    {
     "data": {
      "text/plain": [
       "3-element Vector{Float64}:\n",
       " 0.11721351730185625\n",
       " 0.04046602415815559\n",
       " 0.225203018104717"
      ]
     },
     "execution_count": 6,
     "metadata": {},
     "output_type": "execute_result"
    }
   ],
   "source": [
    "f = rand(3)"
   ]
  },
  {
   "cell_type": "code",
   "execution_count": 7,
   "id": "500adf43-d6fb-4fe7-8350-84c50ae331a8",
   "metadata": {},
   "outputs": [
    {
     "data": {
      "text/plain": [
       "3-element Vector{Float64}:\n",
       " -0.5949418850335557\n",
       "  0.16081805848922476\n",
       "  0.9859703129164494"
      ]
     },
     "execution_count": 7,
     "metadata": {},
     "output_type": "execute_result"
    }
   ],
   "source": [
    "g = randn(3)"
   ]
  },
  {
   "cell_type": "code",
   "execution_count": 8,
   "id": "943cf85d-4519-458a-8efd-c4d04b72351b",
   "metadata": {},
   "outputs": [
    {
     "data": {
      "text/plain": [
       "2×4 Matrix{Int64}:\n",
       " 1  2  3  4\n",
       " 5  6  7  8"
      ]
     },
     "execution_count": 8,
     "metadata": {},
     "output_type": "execute_result"
    }
   ],
   "source": [
    "# 多次元配列\n",
    "A = [1 2 3 4;\n",
    "     5 6 7 8]"
   ]
  },
  {
   "cell_type": "code",
   "execution_count": 9,
   "id": "a96043b5-039e-4ba0-bef4-77f6547a5381",
   "metadata": {},
   "outputs": [
    {
     "data": {
      "text/plain": [
       "2×4 Matrix{Float64}:\n",
       " 1.0  1.0  1.0  1.0\n",
       " 1.0  1.0  1.0  1.0"
      ]
     },
     "execution_count": 9,
     "metadata": {},
     "output_type": "execute_result"
    }
   ],
   "source": [
    "B = ones(2, 4)"
   ]
  },
  {
   "cell_type": "code",
   "execution_count": 10,
   "id": "b619bb09-002f-4335-aa97-eacb06b9d35d",
   "metadata": {},
   "outputs": [
    {
     "data": {
      "text/plain": [
       "(2, 4)"
      ]
     },
     "execution_count": 10,
     "metadata": {},
     "output_type": "execute_result"
    }
   ],
   "source": [
    "size(A)"
   ]
  },
  {
   "cell_type": "code",
   "execution_count": 11,
   "id": "7c873524-6d52-4b4e-b380-71030db8dfdf",
   "metadata": {},
   "outputs": [
    {
     "data": {
      "text/plain": [
       "8"
      ]
     },
     "execution_count": 11,
     "metadata": {},
     "output_type": "execute_result"
    }
   ],
   "source": [
    "length(A)"
   ]
  },
  {
   "cell_type": "code",
   "execution_count": 12,
   "id": "f8b00f1a-3562-4372-ac69-8dc73164bf76",
   "metadata": {},
   "outputs": [
    {
     "data": {
      "text/plain": [
       "5"
      ]
     },
     "execution_count": 12,
     "metadata": {},
     "output_type": "execute_result"
    }
   ],
   "source": [
    "# 2行,1列目の要素を出力\n",
    "A[2,1]"
   ]
  },
  {
   "cell_type": "code",
   "execution_count": 13,
   "id": "3d70a815-4bc7-441b-bd5c-23b3c03b772b",
   "metadata": {},
   "outputs": [
    {
     "data": {
      "text/plain": [
       "4-element Vector{Int64}:\n",
       " 5\n",
       " 6\n",
       " 7\n",
       " 8"
      ]
     },
     "execution_count": 13,
     "metadata": {},
     "output_type": "execute_result"
    }
   ],
   "source": [
    "# 2行目を配列として出力\n",
    "A[2,:]"
   ]
  },
  {
   "cell_type": "code",
   "execution_count": 14,
   "id": "b24df864-1a61-4646-9d2c-1b9b6a3c262b",
   "metadata": {},
   "outputs": [
    {
     "data": {
      "text/plain": [
       "2-element Vector{Int64}:\n",
       " 1\n",
       " 5"
      ]
     },
     "execution_count": 14,
     "metadata": {},
     "output_type": "execute_result"
    }
   ],
   "source": [
    "# 1列目を配列として出力\n",
    "A[:,1]"
   ]
  },
  {
   "cell_type": "code",
   "execution_count": 15,
   "id": "c381b8e6-a0e5-4d30-95ce-2fcd9ef3af61",
   "metadata": {},
   "outputs": [
    {
     "data": {
      "text/plain": [
       "2×3 Matrix{Int64}:\n",
       " 1  2  3\n",
       " 5  6  7"
      ]
     },
     "execution_count": 15,
     "metadata": {},
     "output_type": "execute_result"
    }
   ],
   "source": [
    "# 1〜3列目を部分行列として出力\n",
    "A[:,1:3]"
   ]
  },
  {
   "cell_type": "code",
   "execution_count": 16,
   "id": "655451c7-9acd-47bf-87f3-ba577cf305a2",
   "metadata": {},
   "outputs": [
    {
     "data": {
      "text/plain": [
       "5-element Vector{Int64}:\n",
       "  2\n",
       "  4\n",
       "  6\n",
       "  8\n",
       " 10"
      ]
     },
     "execution_count": 16,
     "metadata": {},
     "output_type": "execute_result"
    }
   ],
   "source": [
    "[2*i for i in 1:5]"
   ]
  },
  {
   "cell_type": "code",
   "execution_count": 17,
   "id": "93ba40a3-ceb1-4d50-b4df-6020147449da",
   "metadata": {},
   "outputs": [
    {
     "data": {
      "text/plain": [
       "3×4 Matrix{Int64}:\n",
       " 1  2  3   4\n",
       " 2  4  6   8\n",
       " 3  6  9  12"
      ]
     },
     "execution_count": 17,
     "metadata": {},
     "output_type": "execute_result"
    }
   ],
   "source": [
    "[i*j for i in 1:3, j in 1:4]"
   ]
  },
  {
   "cell_type": "code",
   "execution_count": 18,
   "id": "41fa85c8-46d8-4dc1-a7a2-620e2d19851d",
   "metadata": {},
   "outputs": [
    {
     "data": {
      "text/plain": [
       "(1, 2, 3)"
      ]
     },
     "execution_count": 18,
     "metadata": {},
     "output_type": "execute_result"
    }
   ],
   "source": [
    "params = (1, 2, 3)"
   ]
  },
  {
   "cell_type": "code",
   "execution_count": 19,
   "id": "7fed09f8-e0e1-4df8-96f2-61d9987f6298",
   "metadata": {},
   "outputs": [
    {
     "data": {
      "text/plain": [
       "6"
      ]
     },
     "execution_count": 19,
     "metadata": {},
     "output_type": "execute_result"
    }
   ],
   "source": [
    "func(a, b, c) = a + b + c\n",
    "func(params...)"
   ]
  },
  {
   "cell_type": "code",
   "execution_count": null,
   "id": "772be1f5-e11e-47ef-b431-be2cbdff251b",
   "metadata": {},
   "outputs": [],
   "source": []
  }
 ],
 "metadata": {
  "kernelspec": {
   "display_name": "Julia 1.7.2",
   "language": "julia",
   "name": "julia-1.7"
  },
  "language_info": {
   "file_extension": ".jl",
   "mimetype": "application/julia",
   "name": "julia",
   "version": "1.7.2"
  }
 },
 "nbformat": 4,
 "nbformat_minor": 5
}
