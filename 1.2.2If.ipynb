{
 "cells": [
  {
   "cell_type": "markdown",
   "id": "4bf2c994-9c27-4d63-8754-5f684e3d04fb",
   "metadata": {},
   "source": [
    "# 1.2 基本文法"
   ]
  },
  {
   "cell_type": "markdown",
   "id": "55d39f22-7d2a-45d5-b240-76da9a95162b",
   "metadata": {},
   "source": [
    "## 1.2.2 制御構文"
   ]
  },
  {
   "cell_type": "code",
   "execution_count": 1,
   "id": "843860fd-a79e-4d79-9399-baa67657c339",
   "metadata": {},
   "outputs": [
    {
     "name": "stdout",
     "output_type": "stream",
     "text": [
      "x is less than y.\n"
     ]
    }
   ],
   "source": [
    "x = 1.0\n",
    "y = 2.0\n",
    "if x < y\n",
    "    println(\"x is less than y.\")\n",
    "elseif x == y\n",
    "    println(\"x is equal to y.\")\n",
    "else\n",
    "    println(\"x is greater than y.\")\n",
    "end"
   ]
  },
  {
   "cell_type": "code",
   "execution_count": 2,
   "id": "6f9f72ea-1d54-4f60-b3dc-d8f55aa42900",
   "metadata": {},
   "outputs": [
    {
     "name": "stdout",
     "output_type": "stream",
     "text": [
      "T\n"
     ]
    }
   ],
   "source": [
    "x = -3\n",
    "y = x < 0 ? \"T\" : \"F\"\n",
    "println(y)"
   ]
  },
  {
   "cell_type": "code",
   "execution_count": 3,
   "id": "779af17d-8dfc-4444-81f2-b1f7e515e0f9",
   "metadata": {},
   "outputs": [
    {
     "name": "stdout",
     "output_type": "stream",
     "text": [
      "a=1, b=0\n"
     ]
    }
   ],
   "source": [
    "a = 0\n",
    "b = 0\n",
    "true && (a = 1)\n",
    "true || (b = 1)\n",
    "println(\"a=$(a), b=$(b)\")"
   ]
  },
  {
   "cell_type": "code",
   "execution_count": 4,
   "id": "17a1dbb2-b2cc-4423-a48f-cec2469b7b71",
   "metadata": {},
   "outputs": [
    {
     "name": "stdout",
     "output_type": "stream",
     "text": [
      "1\n",
      "2\n",
      "3\n",
      "4\n",
      "5\n",
      "6\n",
      "7\n",
      "8\n",
      "9\n",
      "10\n"
     ]
    }
   ],
   "source": [
    "for i in 1:10\n",
    "    println(i)\n",
    "end"
   ]
  }
 ],
 "metadata": {
  "kernelspec": {
   "display_name": "Julia 1.7.2",
   "language": "julia",
   "name": "julia-1.7"
  },
  "language_info": {
   "file_extension": ".jl",
   "mimetype": "application/julia",
   "name": "julia",
   "version": "1.7.2"
  }
 },
 "nbformat": 4,
 "nbformat_minor": 5
}
