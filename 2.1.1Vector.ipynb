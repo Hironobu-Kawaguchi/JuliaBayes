{
 "cells": [
  {
   "cell_type": "markdown",
   "id": "4bf2c994-9c27-4d63-8754-5f684e3d04fb",
   "metadata": {},
   "source": [
    "# 2.1 ベクトル・行列計算"
   ]
  },
  {
   "cell_type": "markdown",
   "id": "acd6fb7a-5e69-4c78-9bb1-1d1a915a2402",
   "metadata": {},
   "source": [
    "## 2.1.1 ベクトルの計算"
   ]
  },
  {
   "cell_type": "code",
   "execution_count": 1,
   "id": "93198329-5c6a-402c-a1b1-34faa2fcbf59",
   "metadata": {},
   "outputs": [
    {
     "data": {
      "text/plain": [
       "3-element Vector{Int64}:\n",
       " 2\n",
       " 4\n",
       " 6"
      ]
     },
     "execution_count": 1,
     "metadata": {},
     "output_type": "execute_result"
    }
   ],
   "source": [
    "a = [1, 2, 3]\n",
    "2 * a"
   ]
  },
  {
   "cell_type": "code",
   "execution_count": 2,
   "id": "1e722ed1-1d9e-4aba-9b5c-7e2fafdb93b5",
   "metadata": {},
   "outputs": [
    {
     "data": {
      "text/plain": [
       "3-element Vector{Int64}:\n",
       " 5\n",
       " 7\n",
       " 9"
      ]
     },
     "execution_count": 2,
     "metadata": {},
     "output_type": "execute_result"
    }
   ],
   "source": [
    "b = [4, 5, 6]\n",
    "a + b"
   ]
  },
  {
   "cell_type": "code",
   "execution_count": 3,
   "id": "2756dedb-3222-4fd5-a99c-7efd46ab9fb7",
   "metadata": {},
   "outputs": [
    {
     "data": {
      "text/plain": [
       "3-element Vector{Int64}:\n",
       "  4\n",
       " 10\n",
       " 18"
      ]
     },
     "execution_count": 3,
     "metadata": {},
     "output_type": "execute_result"
    }
   ],
   "source": [
    "a .* b"
   ]
  },
  {
   "cell_type": "code",
   "execution_count": 5,
   "id": "f26acb69-69b5-4dee-8637-253ad3355673",
   "metadata": {},
   "outputs": [
    {
     "data": {
      "text/plain": [
       "32"
      ]
     },
     "execution_count": 5,
     "metadata": {},
     "output_type": "execute_result"
    }
   ],
   "source": [
    "sum(a .* b)"
   ]
  },
  {
   "cell_type": "code",
   "execution_count": 7,
   "id": "dea36d42-0c31-49a1-a858-84bb37ca1e52",
   "metadata": {},
   "outputs": [
    {
     "data": {
      "text/plain": [
       "32"
      ]
     },
     "execution_count": 7,
     "metadata": {},
     "output_type": "execute_result"
    }
   ],
   "source": [
    "a' * b"
   ]
  },
  {
   "cell_type": "code",
   "execution_count": null,
   "id": "958f047d-8d76-482c-b04f-1ae63ad9fa68",
   "metadata": {},
   "outputs": [],
   "source": []
  }
 ],
 "metadata": {
  "kernelspec": {
   "display_name": "Julia 1.7.2",
   "language": "julia",
   "name": "julia-1.7"
  },
  "language_info": {
   "file_extension": ".jl",
   "mimetype": "application/julia",
   "name": "julia",
   "version": "1.7.2"
  }
 },
 "nbformat": 4,
 "nbformat_minor": 5
}
