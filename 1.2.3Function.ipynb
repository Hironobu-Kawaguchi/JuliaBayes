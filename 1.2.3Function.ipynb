{
 "cells": [
  {
   "cell_type": "markdown",
   "id": "4bf2c994-9c27-4d63-8754-5f684e3d04fb",
   "metadata": {},
   "source": [
    "# 1.2 基本文法"
   ]
  },
  {
   "cell_type": "markdown",
   "id": "2e06804d-d3eb-4bf4-90de-11cf5e6bbe7f",
   "metadata": {},
   "source": [
    "## 1.2.3 関数"
   ]
  },
  {
   "cell_type": "code",
   "execution_count": 1,
   "id": "4cb1022f-7d83-42ad-905a-ac8723e5a3e8",
   "metadata": {},
   "outputs": [
    {
     "data": {
      "text/plain": [
       "myinv (generic function with 1 method)"
      ]
     },
     "execution_count": 1,
     "metadata": {},
     "output_type": "execute_result"
    }
   ],
   "source": [
    "myinv(x) = 1/x"
   ]
  },
  {
   "cell_type": "code",
   "execution_count": 2,
   "id": "6e7027f2-b2ac-45ca-ab1b-a2fa0f325577",
   "metadata": {},
   "outputs": [
    {
     "data": {
      "text/plain": [
       "0.3333333333333333"
      ]
     },
     "execution_count": 2,
     "metadata": {},
     "output_type": "execute_result"
    }
   ],
   "source": [
    "myinv(3)"
   ]
  },
  {
   "cell_type": "code",
   "execution_count": 3,
   "id": "af958ef0-6abe-43fb-ae80-5bd3cedeb96d",
   "metadata": {},
   "outputs": [
    {
     "data": {
      "text/plain": [
       "myinv (generic function with 1 method)"
      ]
     },
     "execution_count": 3,
     "metadata": {},
     "output_type": "execute_result"
    }
   ],
   "source": [
    "function myinv(x)\n",
    "    return 1/x\n",
    "end"
   ]
  },
  {
   "cell_type": "code",
   "execution_count": 4,
   "id": "a63cdc60-d000-4a0a-a7c4-cb66660439dd",
   "metadata": {},
   "outputs": [
    {
     "data": {
      "text/plain": [
       "mymean (generic function with 1 method)"
      ]
     },
     "execution_count": 4,
     "metadata": {},
     "output_type": "execute_result"
    }
   ],
   "source": [
    "function mymean(x, y)\n",
    "    return (x+y)/2\n",
    "end"
   ]
  },
  {
   "cell_type": "code",
   "execution_count": 5,
   "id": "60c48c0d-d826-49c7-9c64-d1a15d12f9fe",
   "metadata": {},
   "outputs": [
    {
     "data": {
      "text/plain": [
       "1.5"
      ]
     },
     "execution_count": 5,
     "metadata": {},
     "output_type": "execute_result"
    }
   ],
   "source": [
    "mymean(1.0, 2.0)"
   ]
  }
 ],
 "metadata": {
  "kernelspec": {
   "display_name": "Julia 1.7.2",
   "language": "julia",
   "name": "julia-1.7"
  },
  "language_info": {
   "file_extension": ".jl",
   "mimetype": "application/julia",
   "name": "julia",
   "version": "1.7.2"
  }
 },
 "nbformat": 4,
 "nbformat_minor": 5
}
