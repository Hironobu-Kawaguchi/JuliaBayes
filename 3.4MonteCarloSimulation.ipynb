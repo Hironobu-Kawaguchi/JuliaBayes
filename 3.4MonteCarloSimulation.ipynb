{
 "cells": [
  {
   "cell_type": "markdown",
   "id": "4bf2c994-9c27-4d63-8754-5f684e3d04fb",
   "metadata": {},
   "source": [
    "# 3.4 確率的思考のシミュレーション"
   ]
  },
  {
   "cell_type": "markdown",
   "id": "b16e115b-3aa2-4122-9ab2-4d8ce1878ef3",
   "metadata": {},
   "source": [
    "## 3.4.1 サンプリング"
   ]
  },
  {
   "cell_type": "code",
   "execution_count": 1,
   "id": "f59c61df-2c0a-4f11-b234-146f602189fa",
   "metadata": {},
   "outputs": [],
   "source": [
    "using Distributions"
   ]
  },
  {
   "cell_type": "code",
   "execution_count": 2,
   "id": "653da05c-4786-4f4b-972a-38448a9616e1",
   "metadata": {},
   "outputs": [
    {
     "data": {
      "text/plain": [
       "10-element Vector{Bool}:\n",
       " 0\n",
       " 1\n",
       " 0\n",
       " 0\n",
       " 0\n",
       " 0\n",
       " 1\n",
       " 0\n",
       " 1\n",
       " 1"
      ]
     },
     "execution_count": 2,
     "metadata": {},
     "output_type": "execute_result"
    }
   ],
   "source": [
    "# パラメータが0.5のベルヌーイ分布を定義\n",
    "bern = Bernoulli(0.5)\n",
    "\n",
    "# 乱数を10個発生\n",
    "X = rand(bern, 10)"
   ]
  },
  {
   "cell_type": "code",
   "execution_count": 3,
   "id": "399131c1-79e3-4a48-9663-ce569f8e4579",
   "metadata": {},
   "outputs": [
    {
     "data": {
      "text/plain": [
       "10-element Vector{Bool}:\n",
       " 0\n",
       " 1\n",
       " 1\n",
       " 1\n",
       " 1\n",
       " 1\n",
       " 1\n",
       " 1\n",
       " 0\n",
       " 1"
      ]
     },
     "execution_count": 3,
     "metadata": {},
     "output_type": "execute_result"
    }
   ],
   "source": [
    "# パラメータを変更\n",
    "bern = Bernoulli(0.9)\n",
    "\n",
    "X = rand(bern, 10)"
   ]
  },
  {
   "cell_type": "code",
   "execution_count": 4,
   "id": "d6acb5c9-a45a-4263-9a14-b5a9305d46ef",
   "metadata": {},
   "outputs": [
    {
     "data": {
      "text/plain": [
       "10-element Vector{String}:\n",
       " \"A\"\n",
       " \"A\"\n",
       " \"A\"\n",
       " \"A\"\n",
       " \"A\"\n",
       " \"A\"\n",
       " \"A\"\n",
       " \"A\"\n",
       " \"A\"\n",
       " \"B\""
      ]
     },
     "execution_count": 4,
     "metadata": {},
     "output_type": "execute_result"
    }
   ],
   "source": [
    "bag(x::Bool) = x == 1 ? \"A\" : \"B\"\n",
    "ball(y::Bool) = y == 1 ? \"赤\" : \"白\"\n",
    "X = bag.(rand(bern, 10))"
   ]
  },
  {
   "cell_type": "code",
   "execution_count": 5,
   "id": "c2914a3b-9024-412f-89cb-8e81e2ade1e4",
   "metadata": {},
   "outputs": [
    {
     "data": {
      "text/plain": [
       "sample (generic function with 1 method)"
      ]
     },
     "execution_count": 5,
     "metadata": {},
     "output_type": "execute_result"
    }
   ],
   "source": [
    "function sample()\n",
    "    # 袋の選択はそれぞれ1/2の確率\n",
    "    x = bag(rand(Bernoulli(1//2)))\n",
    "    \n",
    "    # 袋がAであれば、赤玉が出る確率は1/5\n",
    "    # 袋がBであれば、赤玉が出る確率は3/5\n",
    "    μ = x==\"A\" ? 1//5 : 3//5\n",
    "    \n",
    "    # 玉の抽出\n",
    "    y = ball(rand(Bernoulli(μ)))\n",
    "    \n",
    "    x, μ, y\n",
    "end"
   ]
  },
  {
   "cell_type": "code",
   "execution_count": 6,
   "id": "0aeaa7da-b733-4fe6-9883-979ef7c1817b",
   "metadata": {},
   "outputs": [
    {
     "name": "stdout",
     "output_type": "stream",
     "text": [
      "袋: B, 玉: 赤\n",
      "袋: B, 玉: 白\n",
      "袋: B, 玉: 赤\n",
      "袋: A, 玉: 白\n",
      "袋: A, 玉: 白\n",
      "袋: A, 玉: 赤\n",
      "袋: B, 玉: 赤\n",
      "袋: B, 玉: 赤\n",
      "袋: A, 玉: 赤\n",
      "袋: B, 玉: 赤\n"
     ]
    }
   ],
   "source": [
    "for _ in 1:10\n",
    "    x, μ, y = sample()\n",
    "    println(\"袋: $(x), 玉: $(y)\")\n",
    "end"
   ]
  },
  {
   "cell_type": "markdown",
   "id": "aea43349-1796-49b9-a579-02b60442139f",
   "metadata": {},
   "source": [
    "## 3.4.2 周辺確率の計算"
   ]
  },
  {
   "cell_type": "code",
   "execution_count": 7,
   "id": "27e1da9f-45bd-4b27-928a-53174c31b191",
   "metadata": {},
   "outputs": [
    {
     "data": {
      "text/plain": [
       "0.33"
      ]
     },
     "execution_count": 7,
     "metadata": {},
     "output_type": "execute_result"
    }
   ],
   "source": [
    "maxiter = 100\n",
    "result = []\n",
    "for _ in 1:maxiter\n",
    "    x, μ, y = sample()\n",
    "    push!(result, y)\n",
    "end\n",
    "mean(result .== \"赤\")"
   ]
  },
  {
   "cell_type": "code",
   "execution_count": 8,
   "id": "c12808c4-b6bd-483d-a1e5-2a5e72920ab1",
   "metadata": {},
   "outputs": [
    {
     "data": {
      "text/plain": [
       "0.399415"
      ]
     },
     "execution_count": 8,
     "metadata": {},
     "output_type": "execute_result"
    }
   ],
   "source": [
    "maxiter = 1_000_000\n",
    "result = []\n",
    "for _ in 1:maxiter\n",
    "    x, μ, y = sample()\n",
    "    push!(result, y)\n",
    "end\n",
    "mean(result .== \"赤\")"
   ]
  },
  {
   "cell_type": "markdown",
   "id": "3a4fc871-2c20-47b0-82f4-08a0123e7486",
   "metadata": {},
   "source": [
    "## 3.4.3 条件付き確率の計算"
   ]
  },
  {
   "cell_type": "code",
   "execution_count": 9,
   "id": "184d4d84-f0bf-4b4f-8340-10c41f9f068f",
   "metadata": {},
   "outputs": [
    {
     "name": "stdout",
     "output_type": "stream",
     "text": [
      "acceptance rate = 0.399606\n",
      "p(x=A|y=赤) : approx = 0.24986111319649856 (exact=0.25)\n",
      "p(x=B|y=赤) : approx = 0.7501388868035015 (exact=0.75)\n"
     ]
    }
   ],
   "source": [
    "# 観測値（赤玉）\n",
    "y_obs = \"赤\"\n",
    "\n",
    "maxiter = 1_000_000\n",
    "x_results = []\n",
    "for _ in 1:maxiter\n",
    "    x, μ, y = sample()\n",
    "    \n",
    "    # 生成されたyが観測と一致する場合のみ追加\n",
    "    y == y_obs && push!(x_results, x)\n",
    "end\n",
    "\n",
    "# 受容率（観測と一致した割合）\n",
    "println(\"acceptance rate = $(length(x_results)/maxiter)\")\n",
    "\n",
    "# 球が赤だった場合の袋の条件付き分布\n",
    "println(\"p(x=A|y=赤) : approx = $(mean(x_results .== \"A\")) (exact=$(1/4))\")\n",
    "println(\"p(x=B|y=赤) : approx = $(mean(x_results .== \"B\")) (exact=$(3/4))\")"
   ]
  },
  {
   "cell_type": "markdown",
   "id": "e79978fb-1586-4f02-83bc-2c30d0827df9",
   "metadata": {},
   "source": [
    "## 3.4.4 複数のデータがある場合"
   ]
  },
  {
   "cell_type": "code",
   "execution_count": 10,
   "id": "4fd00d67-c4ed-45a0-a4e6-374a45f98ebb",
   "metadata": {},
   "outputs": [
    {
     "data": {
      "text/plain": [
       "sample (generic function with 2 methods)"
      ]
     },
     "execution_count": 10,
     "metadata": {},
     "output_type": "execute_result"
    }
   ],
   "source": [
    "function sample(N)\n",
    "    x = bag(rand(Bernoulli(1//2)))\n",
    "    μ = x==\"A\" ? 1//5 : 3//5\n",
    "    \n",
    "    # 玉をN回抽出する\n",
    "    Y = ball.(rand(Bernoulli(μ), N))\n",
    "    \n",
    "    x, μ, Y\n",
    "end"
   ]
  },
  {
   "cell_type": "code",
   "execution_count": 11,
   "id": "354c2530-5ce5-4172-a5f4-811319234f35",
   "metadata": {},
   "outputs": [
    {
     "name": "stdout",
     "output_type": "stream",
     "text": [
      "acceptance rate = 0.087\n",
      "p(x=A|y_1=赤,y_2=赤,y_3=白) : approx = 0.1724137931034483 (exact=0.18181818181818182)\n",
      "p(x=B|y_1=赤,y_2=赤,y_3=白) : approx = 0.8275862068965517 (exact=0.8181818181818182)\n"
     ]
    }
   ],
   "source": [
    "maxiter = 10_000\n",
    "Y_obs = [\"赤\", \"赤\", \"白\"]\n",
    "x_results = []\n",
    "for _ in 1:maxiter\n",
    "    x, μ, Y = sample(3)\n",
    "    \n",
    "    # 3つの玉が完全に一致する場合のみ受容\n",
    "    Y == Y_obs && push!(x_results, x)\n",
    "end\n",
    "\n",
    "println(\"acceptance rate = $(length(x_results)/maxiter)\")\n",
    "println(\"p(x=A|y_1=赤,y_2=赤,y_3=白) : \" *\n",
    "    \"approx = $(mean(x_results .== \"A\")) (exact=$(2/11))\")\n",
    "println(\"p(x=B|y_1=赤,y_2=赤,y_3=白) : \" *\n",
    "    \"approx = $(mean(x_results .== \"B\")) (exact=$(9/11))\")"
   ]
  },
  {
   "cell_type": "code",
   "execution_count": 12,
   "id": "ad5e8b43-a6a8-47ca-a9b9-c0d822e7e84f",
   "metadata": {},
   "outputs": [
    {
     "name": "stdout",
     "output_type": "stream",
     "text": [
      "acceptance rate = 0.2608\n",
      "p(x=A|y_1=赤,y_2=赤,y_3=白) : approx = 0.18903374233128833 (exact=0.18181818181818182)\n",
      "p(x=B|y_1=赤,y_2=赤,y_3=白) : approx = 0.8109662576687117 (exact=0.8181818181818182)\n"
     ]
    }
   ],
   "source": [
    "maxiter = 10_000\n",
    "x_results = []\n",
    "for _ in 1:maxiter\n",
    "    x, μ, Y = sample(3)\n",
    "    \n",
    "    # 赤玉の個数さえ一致すれば受容するように修正\n",
    "    sum(Y.==\"赤\") == sum(Y_obs.==\"赤\") && push!(x_results, x)\n",
    "end\n",
    "\n",
    "println(\"acceptance rate = $(length(x_results)/maxiter)\")\n",
    "println(\"p(x=A|y_1=赤,y_2=赤,y_3=白) : \" *\n",
    "    \"approx = $(mean(x_results .== \"A\")) (exact=$(2/11))\")\n",
    "println(\"p(x=B|y_1=赤,y_2=赤,y_3=白) : \" *\n",
    "    \"approx = $(mean(x_results .== \"B\")) (exact=$(9/11))\")"
   ]
  },
  {
   "cell_type": "code",
   "execution_count": null,
   "id": "a46ce82a-7369-4149-aa0a-5fc181639f10",
   "metadata": {},
   "outputs": [],
   "source": []
  }
 ],
 "metadata": {
  "kernelspec": {
   "display_name": "Julia 1.7.2",
   "language": "julia",
   "name": "julia-1.7"
  },
  "language_info": {
   "file_extension": ".jl",
   "mimetype": "application/julia",
   "name": "julia",
   "version": "1.7.2"
  }
 },
 "nbformat": 4,
 "nbformat_minor": 5
}
